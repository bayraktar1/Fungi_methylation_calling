{
 "cells": [
  {
   "cell_type": "code",
   "execution_count": 1,
   "id": "initial_id",
   "metadata": {
    "collapsed": true,
    "ExecuteTime": {
     "end_time": "2023-11-11T12:17:25.992926496Z",
     "start_time": "2023-11-11T12:17:25.832677555Z"
    }
   },
   "outputs": [],
   "source": [
    "import pandas as pd\n",
    "pd.options.display.float_format = '{:20,.12f}'.format"
   ]
  },
  {
   "cell_type": "code",
   "execution_count": 2,
   "outputs": [],
   "source": [
    "bisulfate_file = '/home/bayraktar/PycharmProjects/basecalling_scripts/data/bismark_data/methratio_deduplicate.txt'\n",
    "header = ['Chr', 'position', 'strand', 'context', 'ratio', 'eff_CT_counts', 'C_counts', 'CT_counts', 'rev_G_counts', 'rev_GA_counts', 'CI_lower', 'CI_upper']\n",
    "df = pd.read_csv(bisulfate_file, sep='\\t', names=header, header=0)\n",
    "# df['C_counts'] = df['C_counts'].astype(int)\n",
    "# df['CT_counts'] = df['CT_counts'].astype(int)\n",
    "# df['ratio'] = df['ratio'].astype(float)"
   ],
   "metadata": {
    "collapsed": false,
    "ExecuteTime": {
     "end_time": "2023-11-11T12:17:31.377076534Z",
     "start_time": "2023-11-11T12:17:25.992628689Z"
    }
   },
   "id": "4d6bfa24c32816c3"
  },
  {
   "cell_type": "code",
   "execution_count": 3,
   "outputs": [
    {
     "data": {
      "text/plain": "          Chr  position strand context                ratio  \\\n0           1         5      -      CG       0.000000000000   \n1           1        10      -     CHH       0.000000000000   \n2           1        13      +     CHH       0.000000000000   \n3           1        15      +     CHH       0.000000000000   \n4           1        17      +     CHG       0.000000000000   \n...       ...       ...    ...     ...                  ...   \n19488705    8   3360595      -     CHH       0.000000000000   \n19488706    8   3360596      -     CHH       0.000000000000   \n19488707    8   3360600      -     CHH       0.000000000000   \n19488708    8   3360601      -     CHH       0.000000000000   \n19488709    8   3360602      -     CHH       0.000000000000   \n\n                eff_CT_counts  C_counts  CT_counts  rev_G_counts  \\\n0              6.000000000000         0          6             0   \n1             12.000000000000         0         12             0   \n2              1.000000000000         0          1            15   \n3              1.000000000000         0          1            17   \n4              1.000000000000         0          1            19   \n...                       ...       ...        ...           ...   \n19488705       1.000000000000         0          1             6   \n19488706       1.000000000000         0          1             6   \n19488707       1.000000000000         0          1             3   \n19488708       1.000000000000         0          1             2   \n19488709       1.000000000000         0          1             1   \n\n          rev_GA_counts             CI_lower             CI_upper  \n0                     0       0.000000000000       0.390000000000  \n1                     0       0.000000000000       0.243000000000  \n2                    15       0.000000000000       0.793000000000  \n3                    17       0.000000000000       0.793000000000  \n4                    19       0.000000000000       0.793000000000  \n...                 ...                  ...                  ...  \n19488705              6       0.000000000000       0.793000000000  \n19488706              6       0.000000000000       0.793000000000  \n19488707              3       0.000000000000       0.793000000000  \n19488708              2       0.000000000000       0.793000000000  \n19488709              1       0.000000000000       0.793000000000  \n\n[19488710 rows x 12 columns]",
      "text/html": "<div>\n<style scoped>\n    .dataframe tbody tr th:only-of-type {\n        vertical-align: middle;\n    }\n\n    .dataframe tbody tr th {\n        vertical-align: top;\n    }\n\n    .dataframe thead th {\n        text-align: right;\n    }\n</style>\n<table border=\"1\" class=\"dataframe\">\n  <thead>\n    <tr style=\"text-align: right;\">\n      <th></th>\n      <th>Chr</th>\n      <th>position</th>\n      <th>strand</th>\n      <th>context</th>\n      <th>ratio</th>\n      <th>eff_CT_counts</th>\n      <th>C_counts</th>\n      <th>CT_counts</th>\n      <th>rev_G_counts</th>\n      <th>rev_GA_counts</th>\n      <th>CI_lower</th>\n      <th>CI_upper</th>\n    </tr>\n  </thead>\n  <tbody>\n    <tr>\n      <th>0</th>\n      <td>1</td>\n      <td>5</td>\n      <td>-</td>\n      <td>CG</td>\n      <td>0.000000000000</td>\n      <td>6.000000000000</td>\n      <td>0</td>\n      <td>6</td>\n      <td>0</td>\n      <td>0</td>\n      <td>0.000000000000</td>\n      <td>0.390000000000</td>\n    </tr>\n    <tr>\n      <th>1</th>\n      <td>1</td>\n      <td>10</td>\n      <td>-</td>\n      <td>CHH</td>\n      <td>0.000000000000</td>\n      <td>12.000000000000</td>\n      <td>0</td>\n      <td>12</td>\n      <td>0</td>\n      <td>0</td>\n      <td>0.000000000000</td>\n      <td>0.243000000000</td>\n    </tr>\n    <tr>\n      <th>2</th>\n      <td>1</td>\n      <td>13</td>\n      <td>+</td>\n      <td>CHH</td>\n      <td>0.000000000000</td>\n      <td>1.000000000000</td>\n      <td>0</td>\n      <td>1</td>\n      <td>15</td>\n      <td>15</td>\n      <td>0.000000000000</td>\n      <td>0.793000000000</td>\n    </tr>\n    <tr>\n      <th>3</th>\n      <td>1</td>\n      <td>15</td>\n      <td>+</td>\n      <td>CHH</td>\n      <td>0.000000000000</td>\n      <td>1.000000000000</td>\n      <td>0</td>\n      <td>1</td>\n      <td>17</td>\n      <td>17</td>\n      <td>0.000000000000</td>\n      <td>0.793000000000</td>\n    </tr>\n    <tr>\n      <th>4</th>\n      <td>1</td>\n      <td>17</td>\n      <td>+</td>\n      <td>CHG</td>\n      <td>0.000000000000</td>\n      <td>1.000000000000</td>\n      <td>0</td>\n      <td>1</td>\n      <td>19</td>\n      <td>19</td>\n      <td>0.000000000000</td>\n      <td>0.793000000000</td>\n    </tr>\n    <tr>\n      <th>...</th>\n      <td>...</td>\n      <td>...</td>\n      <td>...</td>\n      <td>...</td>\n      <td>...</td>\n      <td>...</td>\n      <td>...</td>\n      <td>...</td>\n      <td>...</td>\n      <td>...</td>\n      <td>...</td>\n      <td>...</td>\n    </tr>\n    <tr>\n      <th>19488705</th>\n      <td>8</td>\n      <td>3360595</td>\n      <td>-</td>\n      <td>CHH</td>\n      <td>0.000000000000</td>\n      <td>1.000000000000</td>\n      <td>0</td>\n      <td>1</td>\n      <td>6</td>\n      <td>6</td>\n      <td>0.000000000000</td>\n      <td>0.793000000000</td>\n    </tr>\n    <tr>\n      <th>19488706</th>\n      <td>8</td>\n      <td>3360596</td>\n      <td>-</td>\n      <td>CHH</td>\n      <td>0.000000000000</td>\n      <td>1.000000000000</td>\n      <td>0</td>\n      <td>1</td>\n      <td>6</td>\n      <td>6</td>\n      <td>0.000000000000</td>\n      <td>0.793000000000</td>\n    </tr>\n    <tr>\n      <th>19488707</th>\n      <td>8</td>\n      <td>3360600</td>\n      <td>-</td>\n      <td>CHH</td>\n      <td>0.000000000000</td>\n      <td>1.000000000000</td>\n      <td>0</td>\n      <td>1</td>\n      <td>3</td>\n      <td>3</td>\n      <td>0.000000000000</td>\n      <td>0.793000000000</td>\n    </tr>\n    <tr>\n      <th>19488708</th>\n      <td>8</td>\n      <td>3360601</td>\n      <td>-</td>\n      <td>CHH</td>\n      <td>0.000000000000</td>\n      <td>1.000000000000</td>\n      <td>0</td>\n      <td>1</td>\n      <td>2</td>\n      <td>2</td>\n      <td>0.000000000000</td>\n      <td>0.793000000000</td>\n    </tr>\n    <tr>\n      <th>19488709</th>\n      <td>8</td>\n      <td>3360602</td>\n      <td>-</td>\n      <td>CHH</td>\n      <td>0.000000000000</td>\n      <td>1.000000000000</td>\n      <td>0</td>\n      <td>1</td>\n      <td>1</td>\n      <td>1</td>\n      <td>0.000000000000</td>\n      <td>0.793000000000</td>\n    </tr>\n  </tbody>\n</table>\n<p>19488710 rows × 12 columns</p>\n</div>"
     },
     "execution_count": 3,
     "metadata": {},
     "output_type": "execute_result"
    }
   ],
   "source": [
    "df"
   ],
   "metadata": {
    "collapsed": false,
    "ExecuteTime": {
     "end_time": "2023-11-11T12:17:31.384307613Z",
     "start_time": "2023-11-11T12:17:31.378647190Z"
    }
   },
   "id": "38dc9318f273f061"
  },
  {
   "cell_type": "code",
   "execution_count": 4,
   "outputs": [],
   "source": [
    "min_cov = (df['CT_counts'] >= 4)\n",
    "modified = (df['CT_counts'] >= 4) & (df['C_counts'] >= 3)"
   ],
   "metadata": {
    "collapsed": false,
    "ExecuteTime": {
     "end_time": "2023-11-11T12:17:31.444510072Z",
     "start_time": "2023-11-11T12:17:31.384172542Z"
    }
   },
   "id": "5654073517d48ca8"
  },
  {
   "cell_type": "code",
   "execution_count": 5,
   "outputs": [
    {
     "data": {
      "text/plain": "count   19,488,710.000000000000\nmean            29.586231926074\nstd             13.015130926247\nmin              1.000000000000\n25%             21.000000000000\n50%             30.000000000000\n75%             38.000000000000\nmax            178.000000000000\nName: CT_counts, dtype: float64"
     },
     "execution_count": 5,
     "metadata": {},
     "output_type": "execute_result"
    }
   ],
   "source": [
    "df['CT_counts'].describe()"
   ],
   "metadata": {
    "collapsed": false,
    "ExecuteTime": {
     "end_time": "2023-11-11T12:17:31.744349800Z",
     "start_time": "2023-11-11T12:17:31.431343914Z"
    }
   },
   "id": "b136a6506278552f"
  },
  {
   "cell_type": "code",
   "execution_count": 6,
   "outputs": [],
   "source": [
    "# df['CT_counts'].hist()"
   ],
   "metadata": {
    "collapsed": false,
    "ExecuteTime": {
     "end_time": "2023-11-11T12:17:31.744587782Z",
     "start_time": "2023-11-11T12:17:31.740254479Z"
    }
   },
   "id": "a73f9a282a9930c0"
  },
  {
   "cell_type": "code",
   "execution_count": 7,
   "outputs": [
    {
     "data": {
      "text/plain": "count   19,488,710.000000000000\nmean             0.003549138142\nstd              0.014934347591\nmin              0.000000000000\n25%              0.000000000000\n50%              0.000000000000\n75%              0.000000000000\nmax              1.000000000000\nName: ratio, dtype: float64"
     },
     "execution_count": 7,
     "metadata": {},
     "output_type": "execute_result"
    }
   ],
   "source": [
    "df['ratio'].describe()"
   ],
   "metadata": {
    "collapsed": false,
    "ExecuteTime": {
     "end_time": "2023-11-11T12:17:32.047500814Z",
     "start_time": "2023-11-11T12:17:31.741977660Z"
    }
   },
   "id": "1ee007c96c60e6bb"
  },
  {
   "cell_type": "code",
   "execution_count": 8,
   "outputs": [],
   "source": [
    "# df['ratio'].hist()"
   ],
   "metadata": {
    "collapsed": false,
    "ExecuteTime": {
     "end_time": "2023-11-11T12:17:32.047769587Z",
     "start_time": "2023-11-11T12:17:32.045587522Z"
    }
   },
   "id": "5b1c13af7588219"
  },
  {
   "cell_type": "code",
   "execution_count": 9,
   "outputs": [
    {
     "data": {
      "text/plain": "19307970"
     },
     "execution_count": 9,
     "metadata": {},
     "output_type": "execute_result"
    }
   ],
   "source": [
    "len(df[min_cov])"
   ],
   "metadata": {
    "collapsed": false,
    "ExecuteTime": {
     "end_time": "2023-11-11T12:17:32.590648074Z",
     "start_time": "2023-11-11T12:17:32.047313345Z"
    }
   },
   "id": "8c881981a1eab434"
  },
  {
   "cell_type": "code",
   "execution_count": 10,
   "outputs": [
    {
     "data": {
      "text/plain": "context\nCHH    10413535\nCG      5034482\nCHG     3859953\nName: count, dtype: int64"
     },
     "execution_count": 10,
     "metadata": {},
     "output_type": "execute_result"
    }
   ],
   "source": [
    "df[min_cov]['context'].value_counts()"
   ],
   "metadata": {
    "collapsed": false,
    "ExecuteTime": {
     "end_time": "2023-11-11T12:17:33.573002425Z",
     "start_time": "2023-11-11T12:17:32.590918664Z"
    }
   },
   "id": "324b28c3c830de76"
  },
  {
   "cell_type": "code",
   "execution_count": 11,
   "outputs": [
    {
     "data": {
      "text/plain": "9307"
     },
     "execution_count": 11,
     "metadata": {},
     "output_type": "execute_result"
    }
   ],
   "source": [
    "len(df[modified])"
   ],
   "metadata": {
    "collapsed": false,
    "ExecuteTime": {
     "end_time": "2023-11-11T12:17:33.580978231Z",
     "start_time": "2023-11-11T12:17:33.571162185Z"
    }
   },
   "id": "d9e7517e2a530bab"
  },
  {
   "cell_type": "code",
   "execution_count": 12,
   "outputs": [
    {
     "data": {
      "text/plain": "context\nCG     4321\nCHH    3224\nCHG    1762\nName: count, dtype: int64"
     },
     "execution_count": 12,
     "metadata": {},
     "output_type": "execute_result"
    }
   ],
   "source": [
    "df[modified]['context'].value_counts()"
   ],
   "metadata": {
    "collapsed": false,
    "ExecuteTime": {
     "end_time": "2023-11-11T12:17:33.586506172Z",
     "start_time": "2023-11-11T12:17:33.579471795Z"
    }
   },
   "id": "7869b73618dc1c46"
  }
 ],
 "metadata": {
  "kernelspec": {
   "display_name": "Python 3",
   "language": "python",
   "name": "python3"
  },
  "language_info": {
   "codemirror_mode": {
    "name": "ipython",
    "version": 2
   },
   "file_extension": ".py",
   "mimetype": "text/x-python",
   "name": "python",
   "nbconvert_exporter": "python",
   "pygments_lexer": "ipython2",
   "version": "2.7.6"
  }
 },
 "nbformat": 4,
 "nbformat_minor": 5
}
