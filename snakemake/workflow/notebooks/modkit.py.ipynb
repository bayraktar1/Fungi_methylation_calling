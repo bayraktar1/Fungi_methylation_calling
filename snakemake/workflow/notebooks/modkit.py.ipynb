{
 "cells": [
  {
   "cell_type": "code",
   "execution_count": 1,
   "id": "b8a506eb3ccb3759",
   "metadata": {
    "ExecuteTime": {
     "end_time": "2023-12-05T15:08:18.156082322Z",
     "start_time": "2023-12-05T15:08:18.108623140Z"
    },
    "collapsed": false,
    "editable": true,
    "slideshow": {
     "slide_type": ""
    },
    "tags": [
     "parameters"
    ]
   },
   "outputs": [],
   "source": [
    "# This cell is tagged parameters\n",
    "data_file = \"\""
   ]
  },
  {
   "cell_type": "code",
   "execution_count": null,
   "id": "initial_id",
   "metadata": {
    "collapsed": false
   },
   "outputs": [],
   "source": [
    "import pandas as pd\n",
    "pd.options.display.float_format = '{:20,.12f}'.format"
   ]
  },
  {
   "cell_type": "code",
   "execution_count": null,
   "id": "334e998f7333f52b",
   "metadata": {
    "collapsed": false
   },
   "outputs": [],
   "source": [
    "header = ['chrom', 'start_position', 'end_position', 'modified_base_code', 'score', 'strand', 'start_position2', 'end_position2', 'color', 'Nvalid_cov', 'fraction_modified', 'Nmod','Ncanonical', 'Nother_mod', 'Ndelete', 'Nfail', 'Ndiff', 'Nnocall' ]\n",
    "df = pd.read_csv(data_file, sep='\\t', usecols=[0, 1, 2, 3, 4, 5, 6, 7, 8, 9, 10, 11, 12, 13, 14, 15, 16, 17], names=header)"
   ]
  },
  {
   "cell_type": "code",
   "execution_count": null,
   "id": "862dbaba4e957046",
   "metadata": {
    "collapsed": false,
    "editable": true,
    "slideshow": {
     "slide_type": ""
    },
    "tags": []
   },
   "outputs": [],
   "source": [
    "df"
   ]
  },
  {
   "cell_type": "code",
   "execution_count": null,
   "id": "4124a5880e5e9fa2",
   "metadata": {
    "collapsed": false
   },
   "outputs": [],
   "source": [
    "min_cov = (df['Nvalid_cov'] >= 4)\n",
    "modified = (df['Nvalid_cov'] >= 4) & (df['Nmod'] >= 3)"
   ]
  },
  {
   "cell_type": "code",
   "execution_count": null,
   "id": "7e1039693d97f513",
   "metadata": {
    "collapsed": false
   },
   "outputs": [],
   "source": [
    "df['Nvalid_cov'].describe()"
   ]
  },
  {
   "cell_type": "code",
   "execution_count": null,
   "id": "defc3fdb2986819",
   "metadata": {
    "collapsed": false
   },
   "outputs": [],
   "source": [
    "df['Nvalid_cov'].hist()"
   ]
  },
  {
   "cell_type": "code",
   "execution_count": null,
   "id": "12470fa3a39a8dbc",
   "metadata": {
    "collapsed": false
   },
   "outputs": [],
   "source": [
    "df['fraction_modified'].describe()"
   ]
  },
  {
   "cell_type": "code",
   "execution_count": null,
   "id": "1e1b1ef1c6ce6fef",
   "metadata": {
    "collapsed": false
   },
   "outputs": [],
   "source": [
    "df['fraction_modified'].hist()"
   ]
  },
  {
   "cell_type": "code",
   "execution_count": null,
   "id": "31f8ed99e0966511",
   "metadata": {
    "collapsed": false
   },
   "outputs": [],
   "source": [
    "len(df[modified])"
   ]
  },
  {
   "cell_type": "code",
   "execution_count": null,
   "id": "dfa5396a16b1e6d8",
   "metadata": {
    "collapsed": false
   },
   "outputs": [],
   "source": [
    "len(df[min_cov])"
   ]
  }
 ],
 "metadata": {
  "kernelspec": {
   "display_name": "Python 3 (ipykernel)",
   "language": "python",
   "name": "python3"
  },
  "language_info": {
   "codemirror_mode": {
    "name": "ipython",
    "version": 3
   },
   "file_extension": ".py",
   "mimetype": "text/x-python",
   "name": "python",
   "nbconvert_exporter": "python",
   "pygments_lexer": "ipython3",
   "version": "3.12.0"
  }
 },
 "nbformat": 4,
 "nbformat_minor": 5
}
