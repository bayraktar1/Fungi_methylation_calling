{
 "cells": [
  {
   "cell_type": "code",
   "execution_count": 1,
   "id": "d6ebf4a08609c5f7",
   "metadata": {
    "ExecuteTime": {
     "end_time": "2023-12-05T16:00:04.174886982Z",
     "start_time": "2023-12-05T16:00:04.174623940Z"
    },
    "collapsed": false,
    "editable": true,
    "jupyter": {
     "outputs_hidden": false
    },
    "slideshow": {
     "slide_type": ""
    },
    "tags": [
     "parameters"
    ]
   },
   "outputs": [],
   "source": [
    "# This cell is tagged parameters\n",
    "data_file = \"\""
   ]
  },
  {
   "cell_type": "code",
   "execution_count": null,
   "id": "initial_id",
   "metadata": {
    "collapsed": false,
    "jupyter": {
     "outputs_hidden": false
    }
   },
   "outputs": [],
   "source": [
    "import pandas as pd\n",
    "import matplotlib.pyplot as plt\n",
    "pd.options.display.float_format = '{:20,.12f}'.format"
   ]
  },
  {
   "cell_type": "code",
   "execution_count": null,
   "id": "4d6bfa24c32816c3",
   "metadata": {
    "collapsed": false,
    "jupyter": {
     "outputs_hidden": false
    }
   },
   "outputs": [],
   "source": [
    "header = ['Chr', 'position', 'strand', 'count_methylated', 'count_unmethylated', 'c_context', 'trinucleotide']\n",
    "df = pd.read_csv(data_file, sep='\\t', names=header)\n",
    "df['coverage'] = df['count_methylated'] + df['count_unmethylated']\n",
    "df['fraction'] = df['count_methylated'] / df['coverage']\n"
   ]
  },
  {
   "cell_type": "code",
   "execution_count": null,
   "id": "38dc9318f273f061",
   "metadata": {
    "collapsed": false,
    "jupyter": {
     "outputs_hidden": false
    }
   },
   "outputs": [],
   "source": [
    "df"
   ]
  },
  {
   "cell_type": "code",
   "execution_count": null,
   "id": "5654073517d48ca8",
   "metadata": {
    "collapsed": false,
    "jupyter": {
     "outputs_hidden": false
    }
   },
   "outputs": [],
   "source": [
    "min_cov = (df['coverage'] >= 4)\n",
    "modified = (df['coverage'] >= 4) & (df['count_methylated'] >= 3)"
   ]
  },
  {
   "cell_type": "code",
   "execution_count": null,
   "id": "b136a6506278552f",
   "metadata": {
    "collapsed": false,
    "jupyter": {
     "outputs_hidden": false
    }
   },
   "outputs": [],
   "source": [
    "df['coverage'].describe()"
   ]
  },
  {
   "cell_type": "code",
   "execution_count": null,
   "id": "a73f9a282a9930c0",
   "metadata": {
    "collapsed": false,
    "jupyter": {
     "outputs_hidden": false
    }
   },
   "outputs": [],
   "source": [
    "# df['coverage'].hist()"
   ]
  },
  {
   "cell_type": "code",
   "execution_count": null,
   "id": "1ee007c96c60e6bb",
   "metadata": {
    "collapsed": false,
    "jupyter": {
     "outputs_hidden": false
    }
   },
   "outputs": [],
   "source": [
    "df['fraction'].describe()"
   ]
  },
  {
   "cell_type": "code",
   "execution_count": null,
   "id": "5b1c13af7588219",
   "metadata": {
    "collapsed": false,
    "jupyter": {
     "outputs_hidden": false
    }
   },
   "outputs": [],
   "source": [
    "df['fraction'].hist(bins=50, grid=False)\n",
    "plt.xlabel('Cytosine Fraction Modified')\n",
    "plt.ylabel('Frequency')\n",
    "plt.title('V. dahliae')"
   ]
  },
  {
   "cell_type": "code",
   "execution_count": null,
   "id": "8c881981a1eab434",
   "metadata": {
    "collapsed": false,
    "jupyter": {
     "outputs_hidden": false
    }
   },
   "outputs": [],
   "source": [
    "len(df[min_cov])"
   ]
  },
  {
   "cell_type": "code",
   "execution_count": null,
   "id": "8f43c077566c8950",
   "metadata": {
    "collapsed": false,
    "jupyter": {
     "outputs_hidden": false
    }
   },
   "outputs": [],
   "source": [
    "df[min_cov]['c_context'].value_counts()"
   ]
  },
  {
   "cell_type": "code",
   "execution_count": null,
   "id": "d9e7517e2a530bab",
   "metadata": {
    "collapsed": false,
    "jupyter": {
     "outputs_hidden": false
    }
   },
   "outputs": [],
   "source": [
    "len(df[modified])"
   ]
  },
  {
   "cell_type": "code",
   "execution_count": null,
   "id": "157e5fdcf3351802",
   "metadata": {
    "collapsed": false,
    "jupyter": {
     "outputs_hidden": false
    }
   },
   "outputs": [],
   "source": [
    "df[modified]['c_context'].value_counts()"
   ]
  }
 ],
 "metadata": {
  "kernelspec": {
   "display_name": "Python 3 (ipykernel)",
   "language": "python",
   "name": "python3"
  },
  "language_info": {
   "codemirror_mode": {
    "name": "ipython",
    "version": 3
   },
   "file_extension": ".py",
   "mimetype": "text/x-python",
   "name": "python",
   "nbconvert_exporter": "python",
   "pygments_lexer": "ipython3",
   "version": "3.12.0"
  }
 },
 "nbformat": 4,
 "nbformat_minor": 5
}
