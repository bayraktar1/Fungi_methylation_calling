{
 "cells": [
  {
   "cell_type": "code",
   "execution_count": 1,
   "id": "7f111275371b247b",
   "metadata": {
    "ExecuteTime": {
     "end_time": "2023-12-05T16:00:32.714741855Z",
     "start_time": "2023-12-05T16:00:32.714523776Z"
    },
    "collapsed": false,
    "editable": true,
    "jupyter": {
     "outputs_hidden": false
    },
    "slideshow": {
     "slide_type": ""
    },
    "tags": [
     "parameters"
    ]
   },
   "outputs": [],
   "source": [
    "# This cell is tagged parameters\n",
    "data_file = \"\""
   ]
  },
  {
   "cell_type": "code",
   "execution_count": null,
   "id": "initial_id",
   "metadata": {
    "collapsed": false,
    "jupyter": {
     "outputs_hidden": false
    }
   },
   "outputs": [],
   "source": [
    "import pandas as pd\n",
    "pd.options.display.float_format = '{:20,.12f}'.format"
   ]
  },
  {
   "cell_type": "code",
   "execution_count": null,
   "id": "4d6bfa24c32816c3",
   "metadata": {
    "collapsed": false,
    "jupyter": {
     "outputs_hidden": false
    }
   },
   "outputs": [],
   "source": [
    "header = ['Chr', 'position', 'strand', 'context', 'ratio', 'eff_CT_counts', 'C_counts', 'CT_counts', 'rev_G_counts', 'rev_GA_counts', 'CI_lower', 'CI_upper']\n",
    "df = pd.read_csv(data_file, sep='\\t', names=header, header=0)"
   ]
  },
  {
   "cell_type": "code",
   "execution_count": null,
   "id": "38dc9318f273f061",
   "metadata": {
    "collapsed": false,
    "jupyter": {
     "outputs_hidden": false
    }
   },
   "outputs": [],
   "source": [
    "df"
   ]
  },
  {
   "cell_type": "code",
   "execution_count": null,
   "id": "5654073517d48ca8",
   "metadata": {
    "collapsed": false,
    "jupyter": {
     "outputs_hidden": false
    }
   },
   "outputs": [],
   "source": [
    "min_cov = (df['CT_counts'] >= 4)\n",
    "modified = (df['CT_counts'] >= 4) & (df['C_counts'] >= 3)"
   ]
  },
  {
   "cell_type": "code",
   "execution_count": null,
   "id": "b136a6506278552f",
   "metadata": {
    "collapsed": false,
    "jupyter": {
     "outputs_hidden": false
    }
   },
   "outputs": [],
   "source": [
    "df['CT_counts'].describe()"
   ]
  },
  {
   "cell_type": "code",
   "execution_count": null,
   "id": "a73f9a282a9930c0",
   "metadata": {
    "collapsed": false,
    "jupyter": {
     "outputs_hidden": false
    }
   },
   "outputs": [],
   "source": [
    "# df['CT_counts'].hist()"
   ]
  },
  {
   "cell_type": "code",
   "execution_count": null,
   "id": "1ee007c96c60e6bb",
   "metadata": {
    "collapsed": false,
    "jupyter": {
     "outputs_hidden": false
    }
   },
   "outputs": [],
   "source": [
    "df['ratio'].describe()"
   ]
  },
  {
   "cell_type": "code",
   "execution_count": null,
   "id": "5b1c13af7588219",
   "metadata": {
    "collapsed": false,
    "jupyter": {
     "outputs_hidden": false
    }
   },
   "outputs": [],
   "source": [
    "# df['ratio'].hist()"
   ]
  },
  {
   "cell_type": "code",
   "execution_count": null,
   "id": "8c881981a1eab434",
   "metadata": {
    "collapsed": false,
    "jupyter": {
     "outputs_hidden": false
    }
   },
   "outputs": [],
   "source": [
    "len(df[min_cov])"
   ]
  },
  {
   "cell_type": "code",
   "execution_count": null,
   "id": "324b28c3c830de76",
   "metadata": {
    "collapsed": false,
    "jupyter": {
     "outputs_hidden": false
    }
   },
   "outputs": [],
   "source": [
    "df[min_cov]['context'].value_counts()"
   ]
  },
  {
   "cell_type": "code",
   "execution_count": null,
   "id": "d9e7517e2a530bab",
   "metadata": {
    "collapsed": false,
    "jupyter": {
     "outputs_hidden": false
    }
   },
   "outputs": [],
   "source": [
    "len(df[modified])"
   ]
  },
  {
   "cell_type": "code",
   "execution_count": null,
   "id": "7869b73618dc1c46",
   "metadata": {
    "collapsed": false,
    "jupyter": {
     "outputs_hidden": false
    }
   },
   "outputs": [],
   "source": [
    "df[modified]['context'].value_counts()"
   ]
  }
 ],
 "metadata": {
  "kernelspec": {
   "display_name": "Python 3 (ipykernel)",
   "language": "python",
   "name": "python3"
  },
  "language_info": {
   "codemirror_mode": {
    "name": "ipython",
    "version": 3
   },
   "file_extension": ".py",
   "mimetype": "text/x-python",
   "name": "python",
   "nbconvert_exporter": "python",
   "pygments_lexer": "ipython3",
   "version": "3.12.0"
  }
 },
 "nbformat": 4,
 "nbformat_minor": 5
}
