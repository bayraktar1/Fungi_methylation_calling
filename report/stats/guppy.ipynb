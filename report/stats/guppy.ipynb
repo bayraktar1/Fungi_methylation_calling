{
 "cells": [
  {
   "cell_type": "code",
   "execution_count": 1,
   "id": "initial_id",
   "metadata": {
    "collapsed": true,
    "ExecuteTime": {
     "end_time": "2023-11-11T10:05:35.986577979Z",
     "start_time": "2023-11-11T10:05:35.984846665Z"
    }
   },
   "outputs": [],
   "source": [
    "import pandas as pd\n",
    "pd.options.display.float_format = '{:20,.12f}'.format"
   ]
  },
  {
   "cell_type": "code",
   "execution_count": 2,
   "outputs": [],
   "source": [
    "data_file = '/home/bayraktar/PycharmProjects/basecalling_scripts/data/report_nanopore/guppy_mods.bed' \n",
    "header = ['chrom', 'start_position', 'end_position', 'modified_base_code', 'score', 'strand', 'start_position2', 'end_position2', 'color', 'Nvalid_cov', 'fraction_modified', 'Nmod','Ncanonical', 'Nother_mod', 'Ndelete', 'Nfail', 'Ndiff', 'Nnocall' ]\n",
    "df = pd.read_csv(data_file, sep='\\t', usecols=[0, 1, 2, 3, 4, 5, 6, 7, 8, 9, 10, 11, 12, 13, 14, 15, 16, 17], names=header)"
   ],
   "metadata": {
    "collapsed": false,
    "ExecuteTime": {
     "end_time": "2023-11-11T10:05:37.873698943Z",
     "start_time": "2023-11-11T10:05:35.986956220Z"
    }
   },
   "id": "334e998f7333f52b"
  },
  {
   "cell_type": "code",
   "execution_count": 3,
   "outputs": [
    {
     "data": {
      "text/plain": "         chrom  start_position  end_position modified_base_code  score strand  \\\n0            1              26            27                  m      1      -   \n1            1              71            72                  m      1      -   \n2            1              76            77                  m      1      -   \n3            1              79            80                  m      1      -   \n4            1             121           122                  m      1      -   \n...        ...             ...           ...                ...    ...    ...   \n5058694      8         3360380       3360381                  m      1      -   \n5058695      8         3360435       3360436                  m     25      +   \n5058696      8         3360457       3360458                  m     14      +   \n5058697      8         3360463       3360464                  m     21      +   \n5058698      8         3360499       3360500                  m     24      +   \n\n         start_position2  end_position2    color  Nvalid_cov  \\\n0                     26             27  255,0,0           1   \n1                     71             72  255,0,0           1   \n2                     76             77  255,0,0           1   \n3                     79             80  255,0,0           1   \n4                    121            122  255,0,0           1   \n...                  ...            ...      ...         ...   \n5058694          3360380        3360381  255,0,0           1   \n5058695          3360435        3360436  255,0,0          25   \n5058696          3360457        3360458  255,0,0          14   \n5058697          3360463        3360464  255,0,0          21   \n5058698          3360499        3360500  255,0,0          24   \n\n           fraction_modified  Nmod  Ncanonical  Nother_mod  Ndelete  Nfail  \\\n0             0.000000000000     0           1           0        0      0   \n1             0.000000000000     0           1           0        0      0   \n2             0.000000000000     0           1           0        0      0   \n3             0.000000000000     0           1           0        0      0   \n4             0.000000000000     0           1           0        0      1   \n...                      ...   ...         ...         ...      ...    ...   \n5058694       0.000000000000     0           1           0        0      0   \n5058695       0.000000000000     0          25           0        0      2   \n5058696       0.000000000000     0          14           0        0     13   \n5058697       0.000000000000     0          21           0        0      1   \n5058698       0.000000000000     0          24           0        0      2   \n\n         Ndiff  Nnocall  \n0            0        0  \n1            0        0  \n2            0        1  \n3            1        0  \n4            1        2  \n...        ...      ...  \n5058694      0        0  \n5058695      1        0  \n5058696      0        1  \n5058697      0        6  \n5058698      0        2  \n\n[5058699 rows x 18 columns]",
      "text/html": "<div>\n<style scoped>\n    .dataframe tbody tr th:only-of-type {\n        vertical-align: middle;\n    }\n\n    .dataframe tbody tr th {\n        vertical-align: top;\n    }\n\n    .dataframe thead th {\n        text-align: right;\n    }\n</style>\n<table border=\"1\" class=\"dataframe\">\n  <thead>\n    <tr style=\"text-align: right;\">\n      <th></th>\n      <th>chrom</th>\n      <th>start_position</th>\n      <th>end_position</th>\n      <th>modified_base_code</th>\n      <th>score</th>\n      <th>strand</th>\n      <th>start_position2</th>\n      <th>end_position2</th>\n      <th>color</th>\n      <th>Nvalid_cov</th>\n      <th>fraction_modified</th>\n      <th>Nmod</th>\n      <th>Ncanonical</th>\n      <th>Nother_mod</th>\n      <th>Ndelete</th>\n      <th>Nfail</th>\n      <th>Ndiff</th>\n      <th>Nnocall</th>\n    </tr>\n  </thead>\n  <tbody>\n    <tr>\n      <th>0</th>\n      <td>1</td>\n      <td>26</td>\n      <td>27</td>\n      <td>m</td>\n      <td>1</td>\n      <td>-</td>\n      <td>26</td>\n      <td>27</td>\n      <td>255,0,0</td>\n      <td>1</td>\n      <td>0.000000000000</td>\n      <td>0</td>\n      <td>1</td>\n      <td>0</td>\n      <td>0</td>\n      <td>0</td>\n      <td>0</td>\n      <td>0</td>\n    </tr>\n    <tr>\n      <th>1</th>\n      <td>1</td>\n      <td>71</td>\n      <td>72</td>\n      <td>m</td>\n      <td>1</td>\n      <td>-</td>\n      <td>71</td>\n      <td>72</td>\n      <td>255,0,0</td>\n      <td>1</td>\n      <td>0.000000000000</td>\n      <td>0</td>\n      <td>1</td>\n      <td>0</td>\n      <td>0</td>\n      <td>0</td>\n      <td>0</td>\n      <td>0</td>\n    </tr>\n    <tr>\n      <th>2</th>\n      <td>1</td>\n      <td>76</td>\n      <td>77</td>\n      <td>m</td>\n      <td>1</td>\n      <td>-</td>\n      <td>76</td>\n      <td>77</td>\n      <td>255,0,0</td>\n      <td>1</td>\n      <td>0.000000000000</td>\n      <td>0</td>\n      <td>1</td>\n      <td>0</td>\n      <td>0</td>\n      <td>0</td>\n      <td>0</td>\n      <td>1</td>\n    </tr>\n    <tr>\n      <th>3</th>\n      <td>1</td>\n      <td>79</td>\n      <td>80</td>\n      <td>m</td>\n      <td>1</td>\n      <td>-</td>\n      <td>79</td>\n      <td>80</td>\n      <td>255,0,0</td>\n      <td>1</td>\n      <td>0.000000000000</td>\n      <td>0</td>\n      <td>1</td>\n      <td>0</td>\n      <td>0</td>\n      <td>0</td>\n      <td>1</td>\n      <td>0</td>\n    </tr>\n    <tr>\n      <th>4</th>\n      <td>1</td>\n      <td>121</td>\n      <td>122</td>\n      <td>m</td>\n      <td>1</td>\n      <td>-</td>\n      <td>121</td>\n      <td>122</td>\n      <td>255,0,0</td>\n      <td>1</td>\n      <td>0.000000000000</td>\n      <td>0</td>\n      <td>1</td>\n      <td>0</td>\n      <td>0</td>\n      <td>1</td>\n      <td>1</td>\n      <td>2</td>\n    </tr>\n    <tr>\n      <th>...</th>\n      <td>...</td>\n      <td>...</td>\n      <td>...</td>\n      <td>...</td>\n      <td>...</td>\n      <td>...</td>\n      <td>...</td>\n      <td>...</td>\n      <td>...</td>\n      <td>...</td>\n      <td>...</td>\n      <td>...</td>\n      <td>...</td>\n      <td>...</td>\n      <td>...</td>\n      <td>...</td>\n      <td>...</td>\n      <td>...</td>\n    </tr>\n    <tr>\n      <th>5058694</th>\n      <td>8</td>\n      <td>3360380</td>\n      <td>3360381</td>\n      <td>m</td>\n      <td>1</td>\n      <td>-</td>\n      <td>3360380</td>\n      <td>3360381</td>\n      <td>255,0,0</td>\n      <td>1</td>\n      <td>0.000000000000</td>\n      <td>0</td>\n      <td>1</td>\n      <td>0</td>\n      <td>0</td>\n      <td>0</td>\n      <td>0</td>\n      <td>0</td>\n    </tr>\n    <tr>\n      <th>5058695</th>\n      <td>8</td>\n      <td>3360435</td>\n      <td>3360436</td>\n      <td>m</td>\n      <td>25</td>\n      <td>+</td>\n      <td>3360435</td>\n      <td>3360436</td>\n      <td>255,0,0</td>\n      <td>25</td>\n      <td>0.000000000000</td>\n      <td>0</td>\n      <td>25</td>\n      <td>0</td>\n      <td>0</td>\n      <td>2</td>\n      <td>1</td>\n      <td>0</td>\n    </tr>\n    <tr>\n      <th>5058696</th>\n      <td>8</td>\n      <td>3360457</td>\n      <td>3360458</td>\n      <td>m</td>\n      <td>14</td>\n      <td>+</td>\n      <td>3360457</td>\n      <td>3360458</td>\n      <td>255,0,0</td>\n      <td>14</td>\n      <td>0.000000000000</td>\n      <td>0</td>\n      <td>14</td>\n      <td>0</td>\n      <td>0</td>\n      <td>13</td>\n      <td>0</td>\n      <td>1</td>\n    </tr>\n    <tr>\n      <th>5058697</th>\n      <td>8</td>\n      <td>3360463</td>\n      <td>3360464</td>\n      <td>m</td>\n      <td>21</td>\n      <td>+</td>\n      <td>3360463</td>\n      <td>3360464</td>\n      <td>255,0,0</td>\n      <td>21</td>\n      <td>0.000000000000</td>\n      <td>0</td>\n      <td>21</td>\n      <td>0</td>\n      <td>0</td>\n      <td>1</td>\n      <td>0</td>\n      <td>6</td>\n    </tr>\n    <tr>\n      <th>5058698</th>\n      <td>8</td>\n      <td>3360499</td>\n      <td>3360500</td>\n      <td>m</td>\n      <td>24</td>\n      <td>+</td>\n      <td>3360499</td>\n      <td>3360500</td>\n      <td>255,0,0</td>\n      <td>24</td>\n      <td>0.000000000000</td>\n      <td>0</td>\n      <td>24</td>\n      <td>0</td>\n      <td>0</td>\n      <td>2</td>\n      <td>0</td>\n      <td>2</td>\n    </tr>\n  </tbody>\n</table>\n<p>5058699 rows × 18 columns</p>\n</div>"
     },
     "execution_count": 3,
     "metadata": {},
     "output_type": "execute_result"
    }
   ],
   "source": [
    "df"
   ],
   "metadata": {
    "collapsed": false,
    "ExecuteTime": {
     "end_time": "2023-11-11T10:05:37.885125015Z",
     "start_time": "2023-11-11T10:05:37.876159237Z"
    }
   },
   "id": "862dbaba4e957046"
  },
  {
   "cell_type": "code",
   "execution_count": 4,
   "outputs": [],
   "source": [
    "min_cov = (df['Nvalid_cov'] >= 4)\n",
    "modified = (df['Nvalid_cov'] >= 4) & (df['Nmod'] >= 3)"
   ],
   "metadata": {
    "collapsed": false,
    "ExecuteTime": {
     "end_time": "2023-11-11T10:05:37.898065086Z",
     "start_time": "2023-11-11T10:05:37.885243044Z"
    }
   },
   "id": "4124a5880e5e9fa2"
  },
  {
   "cell_type": "code",
   "execution_count": 5,
   "outputs": [
    {
     "data": {
      "text/plain": "count   5,058,699.000000000000\nmean           28.131458503461\nstd            17.072498133267\nmin             1.000000000000\n25%            22.000000000000\n50%            27.000000000000\n75%            32.000000000000\nmax           898.000000000000\nName: Nvalid_cov, dtype: float64"
     },
     "execution_count": 5,
     "metadata": {},
     "output_type": "execute_result"
    }
   ],
   "source": [
    "df['Nvalid_cov'].describe()"
   ],
   "metadata": {
    "collapsed": false,
    "ExecuteTime": {
     "end_time": "2023-11-11T10:05:37.977654098Z",
     "start_time": "2023-11-11T10:05:37.896514478Z"
    }
   },
   "id": "7e1039693d97f513"
  },
  {
   "cell_type": "code",
   "execution_count": 6,
   "outputs": [
    {
     "data": {
      "text/plain": "<Axes: >"
     },
     "execution_count": 6,
     "metadata": {},
     "output_type": "execute_result"
    },
    {
     "data": {
      "text/plain": "<Figure size 640x480 with 1 Axes>",
      "image/png": "[encoded data removed]"
     },
     "metadata": {},
     "output_type": "display_data"
    }
   ],
   "source": [
    "df['Nvalid_cov'].hist()"
   ],
   "metadata": {
    "collapsed": false,
    "ExecuteTime": {
     "end_time": "2023-11-11T10:05:38.110951456Z",
     "start_time": "2023-11-11T10:05:37.973059455Z"
    }
   },
   "id": "defc3fdb2986819"
  },
  {
   "cell_type": "code",
   "execution_count": 7,
   "outputs": [
    {
     "data": {
      "text/plain": "count   5,058,699.000000000000\nmean            0.671639449194\nstd             2.179732486766\nmin             0.000000000000\n25%             0.000000000000\n50%             0.000000000000\n75%             0.000000000000\nmax           100.000000000000\nName: fraction_modified, dtype: float64"
     },
     "execution_count": 7,
     "metadata": {},
     "output_type": "execute_result"
    }
   ],
   "source": [
    "df['fraction_modified'].describe()"
   ],
   "metadata": {
    "collapsed": false,
    "ExecuteTime": {
     "end_time": "2023-11-11T10:05:38.183884314Z",
     "start_time": "2023-11-11T10:05:38.111444690Z"
    }
   },
   "id": "12470fa3a39a8dbc"
  },
  {
   "cell_type": "code",
   "execution_count": 8,
   "outputs": [
    {
     "data": {
      "text/plain": "<Axes: >"
     },
     "execution_count": 8,
     "metadata": {},
     "output_type": "execute_result"
    },
    {
     "data": {
      "text/plain": "<Figure size 640x480 with 1 Axes>",
      "image/png": "[encoded data removed]"
     },
     "metadata": {},
     "output_type": "display_data"
    }
   ],
   "source": [
    "df['fraction_modified'].hist()"
   ],
   "metadata": {
    "collapsed": false,
    "ExecuteTime": {
     "end_time": "2023-11-11T10:05:38.298631081Z",
     "start_time": "2023-11-11T10:05:38.189671907Z"
    }
   },
   "id": "1e1b1ef1c6ce6fef"
  },
  {
   "cell_type": "code",
   "execution_count": 9,
   "outputs": [
    {
     "data": {
      "text/plain": "31452"
     },
     "execution_count": 9,
     "metadata": {},
     "output_type": "execute_result"
    }
   ],
   "source": [
    "len(df[modified])"
   ],
   "metadata": {
    "collapsed": false,
    "ExecuteTime": {
     "end_time": "2023-11-11T10:05:38.340539836Z",
     "start_time": "2023-11-11T10:05:38.299193363Z"
    }
   },
   "id": "31f8ed99e0966511"
  },
  {
   "cell_type": "code",
   "execution_count": 10,
   "outputs": [
    {
     "data": {
      "text/plain": "5055730"
     },
     "execution_count": 10,
     "metadata": {},
     "output_type": "execute_result"
    }
   ],
   "source": [
    "len(df[min_cov])"
   ],
   "metadata": {
    "collapsed": false,
    "ExecuteTime": {
     "end_time": "2023-11-11T10:17:15.543119497Z",
     "start_time": "2023-11-11T10:17:15.351123956Z"
    }
   },
   "id": "dfa5396a16b1e6d8"
  }
 ],
 "metadata": {
  "kernelspec": {
   "display_name": "Python 3",
   "language": "python",
   "name": "python3"
  },
  "language_info": {
   "codemirror_mode": {
    "name": "ipython",
    "version": 2
   },
   "file_extension": ".py",
   "mimetype": "text/x-python",
   "name": "python",
   "nbconvert_exporter": "python",
   "pygments_lexer": "ipython2",
   "version": "2.7.6"
  }
 },
 "nbformat": 4,
 "nbformat_minor": 5
}
