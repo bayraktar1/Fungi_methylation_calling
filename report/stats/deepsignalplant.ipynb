{
 "cells": [
  {
   "cell_type": "markdown",
   "source": [
    "# Deepsignal-Plant Analysis\n",
    "<p>Deepsignal-Plant can only detect 5mC methylation; detection is in all contexts</p>"
   ],
   "metadata": {
    "collapsed": false
   }
  },
  {
   "cell_type": "markdown",
   "source": [
    "### Imports and settings"
   ],
   "metadata": {
    "collapsed": false
   }
  },
  {
   "cell_type": "code",
   "execution_count": 1,
   "outputs": [],
   "source": [
    "import pandas as pd"
   ],
   "metadata": {
    "collapsed": false,
    "ExecuteTime": {
     "end_time": "2023-11-28T08:43:10.977649722Z",
     "start_time": "2023-11-28T08:43:10.973939367Z"
    }
   }
  },
  {
   "cell_type": "code",
   "execution_count": 2,
   "outputs": [],
   "source": [
    "pd.options.display.float_format = '{:20,.2f}'.format"
   ],
   "metadata": {
    "collapsed": false,
    "ExecuteTime": {
     "end_time": "2023-11-28T08:43:10.977921416Z",
     "start_time": "2023-11-28T08:43:10.975414650Z"
    }
   }
  },
  {
   "cell_type": "markdown",
   "source": [
    "### Read in the data"
   ],
   "metadata": {
    "collapsed": false
   }
  },
  {
   "cell_type": "code",
   "execution_count": 3,
   "outputs": [],
   "source": [
    "data_file = '/home/bayraktar/PycharmProjects/basecalling_scripts/data/nanopore_data/C_call_mods_size.frequency.tsv'\n",
    "header = ['Chr', 'position', 'strand', 'pos_in_strand', 'prob_o_sum', 'prob_1_sum', 'count_modified', 'count_unmodified', 'coverage', 'modification_frequency', 'kmer']\n",
    "df = pd.read_csv(data_file, sep='\\t', names=header)"
   ],
   "metadata": {
    "collapsed": false,
    "ExecuteTime": {
     "end_time": "2023-11-28T08:43:16.296575199Z",
     "start_time": "2023-11-28T08:43:10.977976751Z"
    }
   }
  },
  {
   "cell_type": "code",
   "execution_count": 4,
   "outputs": [],
   "source": [
    "def check_kmer(kmer):\n",
    "    if kmer[3] == 'G':\n",
    "        context = 'CG'\n",
    "    elif kmer[4] == 'G':\n",
    "        context = 'CHG'\n",
    "    else:\n",
    "        context = 'CHH'\n",
    "    return context"
   ],
   "metadata": {
    "collapsed": false,
    "ExecuteTime": {
     "end_time": "2023-11-28T08:43:16.299659663Z",
     "start_time": "2023-11-28T08:43:16.297654864Z"
    }
   }
  },
  {
   "cell_type": "code",
   "execution_count": 5,
   "outputs": [],
   "source": [
    "df['context'] = df['kmer'].apply(check_kmer)"
   ],
   "metadata": {
    "collapsed": false,
    "ExecuteTime": {
     "end_time": "2023-11-28T08:43:17.424739772Z",
     "start_time": "2023-11-28T08:43:16.370109126Z"
    }
   }
  },
  {
   "cell_type": "code",
   "execution_count": 6,
   "outputs": [
    {
     "data": {
      "text/plain": "          Chr  position strand  pos_in_strand           prob_o_sum  \\\n0           1   4358311      -             -1                35.92   \n1           1   4358307      -             -1                36.98   \n2           1   4358305      -             -1                35.97   \n3           1   4358298      -             -1                37.00   \n4           1   4358297      -             -1                36.99   \n...       ...       ...    ...            ...                  ...   \n19502809    8   1923674      -             -1                 6.47   \n19502810    8   2818467      +             -1                13.08   \n19502811    8   2818675      +             -1                15.14   \n19502812    8   2818872      +             -1                11.59   \n19502813    8   2819050      +             -1                11.00   \n\n                   prob_1_sum  count_modified  count_unmodified  coverage  \\\n0                        0.08               0                36        36   \n1                        0.02               0                37        37   \n2                        1.03               1                36        37   \n3                        0.00               0                37        37   \n4                        0.01               0                37        37   \n...                       ...             ...               ...       ...   \n19502809                 1.53               1                 7         8   \n19502810                 1.92               1                14        15   \n19502811                 1.86               1                16        17   \n19502812                 1.42               1                12        13   \n19502813                 1.00               0                12        12   \n\n          modification_frequency   kmer context  \n0                           0.00  AGCTG     CHG  \n1                           0.00  GTCTC     CHH  \n2                           0.03  CTCTG     CHG  \n3                           0.00  TTCCT     CHH  \n4                           0.00  TCCTG     CHG  \n...                          ...    ...     ...  \n19502809                    0.12  TCCGA      CG  \n19502810                    0.07  TCCGG      CG  \n19502811                    0.06  TGCGG      CG  \n19502812                    0.08  TGCGG      CG  \n19502813                    0.00  TGCGA      CG  \n\n[19502814 rows x 12 columns]",
      "text/html": "<div>\n<style scoped>\n    .dataframe tbody tr th:only-of-type {\n        vertical-align: middle;\n    }\n\n    .dataframe tbody tr th {\n        vertical-align: top;\n    }\n\n    .dataframe thead th {\n        text-align: right;\n    }\n</style>\n<table border=\"1\" class=\"dataframe\">\n  <thead>\n    <tr style=\"text-align: right;\">\n      <th></th>\n      <th>Chr</th>\n      <th>position</th>\n      <th>strand</th>\n      <th>pos_in_strand</th>\n      <th>prob_o_sum</th>\n      <th>prob_1_sum</th>\n      <th>count_modified</th>\n      <th>count_unmodified</th>\n      <th>coverage</th>\n      <th>modification_frequency</th>\n      <th>kmer</th>\n      <th>context</th>\n    </tr>\n  </thead>\n  <tbody>\n    <tr>\n      <th>0</th>\n      <td>1</td>\n      <td>4358311</td>\n      <td>-</td>\n      <td>-1</td>\n      <td>35.92</td>\n      <td>0.08</td>\n      <td>0</td>\n      <td>36</td>\n      <td>36</td>\n      <td>0.00</td>\n      <td>AGCTG</td>\n      <td>CHG</td>\n    </tr>\n    <tr>\n      <th>1</th>\n      <td>1</td>\n      <td>4358307</td>\n      <td>-</td>\n      <td>-1</td>\n      <td>36.98</td>\n      <td>0.02</td>\n      <td>0</td>\n      <td>37</td>\n      <td>37</td>\n      <td>0.00</td>\n      <td>GTCTC</td>\n      <td>CHH</td>\n    </tr>\n    <tr>\n      <th>2</th>\n      <td>1</td>\n      <td>4358305</td>\n      <td>-</td>\n      <td>-1</td>\n      <td>35.97</td>\n      <td>1.03</td>\n      <td>1</td>\n      <td>36</td>\n      <td>37</td>\n      <td>0.03</td>\n      <td>CTCTG</td>\n      <td>CHG</td>\n    </tr>\n    <tr>\n      <th>3</th>\n      <td>1</td>\n      <td>4358298</td>\n      <td>-</td>\n      <td>-1</td>\n      <td>37.00</td>\n      <td>0.00</td>\n      <td>0</td>\n      <td>37</td>\n      <td>37</td>\n      <td>0.00</td>\n      <td>TTCCT</td>\n      <td>CHH</td>\n    </tr>\n    <tr>\n      <th>4</th>\n      <td>1</td>\n      <td>4358297</td>\n      <td>-</td>\n      <td>-1</td>\n      <td>36.99</td>\n      <td>0.01</td>\n      <td>0</td>\n      <td>37</td>\n      <td>37</td>\n      <td>0.00</td>\n      <td>TCCTG</td>\n      <td>CHG</td>\n    </tr>\n    <tr>\n      <th>...</th>\n      <td>...</td>\n      <td>...</td>\n      <td>...</td>\n      <td>...</td>\n      <td>...</td>\n      <td>...</td>\n      <td>...</td>\n      <td>...</td>\n      <td>...</td>\n      <td>...</td>\n      <td>...</td>\n      <td>...</td>\n    </tr>\n    <tr>\n      <th>19502809</th>\n      <td>8</td>\n      <td>1923674</td>\n      <td>-</td>\n      <td>-1</td>\n      <td>6.47</td>\n      <td>1.53</td>\n      <td>1</td>\n      <td>7</td>\n      <td>8</td>\n      <td>0.12</td>\n      <td>TCCGA</td>\n      <td>CG</td>\n    </tr>\n    <tr>\n      <th>19502810</th>\n      <td>8</td>\n      <td>2818467</td>\n      <td>+</td>\n      <td>-1</td>\n      <td>13.08</td>\n      <td>1.92</td>\n      <td>1</td>\n      <td>14</td>\n      <td>15</td>\n      <td>0.07</td>\n      <td>TCCGG</td>\n      <td>CG</td>\n    </tr>\n    <tr>\n      <th>19502811</th>\n      <td>8</td>\n      <td>2818675</td>\n      <td>+</td>\n      <td>-1</td>\n      <td>15.14</td>\n      <td>1.86</td>\n      <td>1</td>\n      <td>16</td>\n      <td>17</td>\n      <td>0.06</td>\n      <td>TGCGG</td>\n      <td>CG</td>\n    </tr>\n    <tr>\n      <th>19502812</th>\n      <td>8</td>\n      <td>2818872</td>\n      <td>+</td>\n      <td>-1</td>\n      <td>11.59</td>\n      <td>1.42</td>\n      <td>1</td>\n      <td>12</td>\n      <td>13</td>\n      <td>0.08</td>\n      <td>TGCGG</td>\n      <td>CG</td>\n    </tr>\n    <tr>\n      <th>19502813</th>\n      <td>8</td>\n      <td>2819050</td>\n      <td>+</td>\n      <td>-1</td>\n      <td>11.00</td>\n      <td>1.00</td>\n      <td>0</td>\n      <td>12</td>\n      <td>12</td>\n      <td>0.00</td>\n      <td>TGCGA</td>\n      <td>CG</td>\n    </tr>\n  </tbody>\n</table>\n<p>19502814 rows × 12 columns</p>\n</div>"
     },
     "execution_count": 6,
     "metadata": {},
     "output_type": "execute_result"
    }
   ],
   "source": [
    "df"
   ],
   "metadata": {
    "collapsed": false,
    "ExecuteTime": {
     "end_time": "2023-11-28T08:43:17.438018977Z",
     "start_time": "2023-11-28T08:43:17.426706437Z"
    }
   }
  },
  {
   "cell_type": "code",
   "execution_count": 7,
   "outputs": [],
   "source": [
    "min_cov = (df['coverage'] >= 4)\n",
    "modified = (df['coverage'] >= 4) & (df['count_modified'] >= 3)"
   ],
   "metadata": {
    "collapsed": false,
    "ExecuteTime": {
     "end_time": "2023-11-28T08:43:17.482441015Z",
     "start_time": "2023-11-28T08:43:17.433870831Z"
    }
   }
  },
  {
   "cell_type": "markdown",
   "source": [
    "### Coverage"
   ],
   "metadata": {
    "collapsed": false
   }
  },
  {
   "cell_type": "code",
   "execution_count": 8,
   "outputs": [
    {
     "data": {
      "text/plain": "count          19,502,814.00\nmean                   32.69\nstd                    20.12\nmin                     1.00\n25%                    26.00\n50%                    30.00\n75%                    36.00\nmax                   879.00\nName: coverage, dtype: float64"
     },
     "execution_count": 8,
     "metadata": {},
     "output_type": "execute_result"
    }
   ],
   "source": [
    "df['coverage'].describe()"
   ],
   "metadata": {
    "collapsed": false,
    "ExecuteTime": {
     "end_time": "2023-11-28T08:43:17.693101942Z",
     "start_time": "2023-11-28T08:43:17.479905723Z"
    }
   }
  },
  {
   "cell_type": "code",
   "execution_count": 9,
   "outputs": [
    {
     "data": {
      "text/plain": "<Axes: >"
     },
     "execution_count": 9,
     "metadata": {},
     "output_type": "execute_result"
    },
    {
     "data": {
      "text/plain": "<Figure size 640x480 with 1 Axes>",
      "image/png": "[encoded data removed]"
     },
     "metadata": {},
     "output_type": "display_data"
    }
   ],
   "source": [
    "df['coverage'].hist()"
   ],
   "metadata": {
    "collapsed": false,
    "ExecuteTime": {
     "end_time": "2023-11-28T08:43:17.980152656Z",
     "start_time": "2023-11-28T08:43:17.694237811Z"
    }
   }
  },
  {
   "cell_type": "code",
   "execution_count": 10,
   "outputs": [
    {
     "data": {
      "text/plain": "<Axes: >"
     },
     "execution_count": 10,
     "metadata": {},
     "output_type": "execute_result"
    },
    {
     "data": {
      "text/plain": "<Figure size 640x480 with 1 Axes>",
      "image/png": "[encoded data removed]"
     },
     "metadata": {},
     "output_type": "display_data"
    }
   ],
   "source": [
    "df['modification_frequency'].hist()"
   ],
   "metadata": {
    "collapsed": false,
    "ExecuteTime": {
     "end_time": "2023-11-28T08:43:18.250048244Z",
     "start_time": "2023-11-28T08:43:17.985610075Z"
    }
   }
  },
  {
   "cell_type": "code",
   "execution_count": 11,
   "outputs": [
    {
     "data": {
      "text/plain": "19497234"
     },
     "execution_count": 11,
     "metadata": {},
     "output_type": "execute_result"
    }
   ],
   "source": [
    "len(df[min_cov])"
   ],
   "metadata": {
    "collapsed": false,
    "ExecuteTime": {
     "end_time": "2023-11-28T08:43:18.762557264Z",
     "start_time": "2023-11-28T08:43:18.250580912Z"
    }
   }
  },
  {
   "cell_type": "code",
   "execution_count": 12,
   "outputs": [
    {
     "data": {
      "text/plain": "context\nCHH    10562997\nCG      5057422\nCHG     3876815\nName: count, dtype: int64"
     },
     "execution_count": 12,
     "metadata": {},
     "output_type": "execute_result"
    }
   ],
   "source": [
    "df[min_cov]['context'].value_counts()"
   ],
   "metadata": {
    "collapsed": false,
    "ExecuteTime": {
     "end_time": "2023-11-28T08:43:19.617822618Z",
     "start_time": "2023-11-28T08:43:18.762713073Z"
    }
   }
  },
  {
   "cell_type": "code",
   "execution_count": 13,
   "outputs": [
    {
     "data": {
      "text/plain": "150729"
     },
     "execution_count": 13,
     "metadata": {},
     "output_type": "execute_result"
    }
   ],
   "source": [
    "len(df[modified])"
   ],
   "metadata": {
    "collapsed": false,
    "ExecuteTime": {
     "end_time": "2023-11-28T08:43:19.638964477Z",
     "start_time": "2023-11-28T08:43:19.616264279Z"
    }
   }
  },
  {
   "cell_type": "code",
   "execution_count": 14,
   "outputs": [
    {
     "data": {
      "text/plain": "context\nCG     94436\nCHH    44463\nCHG    11830\nName: count, dtype: int64"
     },
     "execution_count": 14,
     "metadata": {},
     "output_type": "execute_result"
    }
   ],
   "source": [
    "df[modified]['context'].value_counts()"
   ],
   "metadata": {
    "collapsed": false,
    "ExecuteTime": {
     "end_time": "2023-11-28T08:43:19.659673089Z",
     "start_time": "2023-11-28T08:43:19.636605921Z"
    }
   }
  }
 ],
 "metadata": {
  "kernelspec": {
   "display_name": "Python 3",
   "language": "python",
   "name": "python3"
  },
  "language_info": {
   "codemirror_mode": {
    "name": "ipython",
    "version": 2
   },
   "file_extension": ".py",
   "mimetype": "text/x-python",
   "name": "python",
   "nbconvert_exporter": "python",
   "pygments_lexer": "ipython2",
   "version": "2.7.6"
  }
 },
 "nbformat": 4,
 "nbformat_minor": 0
}
