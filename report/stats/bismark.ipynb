{
 "cells": [
  {
   "cell_type": "code",
   "execution_count": 1,
   "id": "initial_id",
   "metadata": {
    "collapsed": true,
    "ExecuteTime": {
     "end_time": "2023-11-12T18:50:01.007637754Z",
     "start_time": "2023-11-12T18:50:00.714008998Z"
    }
   },
   "outputs": [],
   "source": [
    "import pandas as pd\n",
    "import matplotlib.pyplot as plt\n",
    "pd.options.display.float_format = '{:20,.12f}'.format"
   ]
  },
  {
   "cell_type": "code",
   "execution_count": 2,
   "outputs": [],
   "source": [
    "bisulfate_file = '/home/bayraktar/PycharmProjects/basecalling_scripts/data/bismark_data/JR2.CX_report.txt'\n",
    "header = ['Chr', 'position', 'strand', 'count_methylated', 'count_unmethylated', 'c_context', 'trinucleotide']\n",
    "df = pd.read_csv(bisulfate_file, sep='\\t', names=header)\n",
    "df['coverage'] = df['count_methylated'] + df['count_unmethylated']\n",
    "df['fraction'] = df['count_methylated'] / df['coverage']\n"
   ],
   "metadata": {
    "collapsed": false,
    "ExecuteTime": {
     "end_time": "2023-11-12T18:50:04.646899667Z",
     "start_time": "2023-11-12T18:50:01.008087527Z"
    }
   },
   "id": "4d6bfa24c32816c3"
  },
  {
   "cell_type": "code",
   "execution_count": 3,
   "outputs": [
    {
     "data": {
      "text/plain": "          Chr  position strand  count_methylated  count_unmethylated  \\\n0           1         4      +                 0                   0   \n1           1         5      -                 0                   0   \n2           1         6      +                 0                   0   \n3           1        10      -                 0                   0   \n4           1        13      +                 0                   0   \n...       ...       ...    ...               ...                 ...   \n19505731    8   3360595      -                 0                   5   \n19505732    8   3360596      -                 0                   5   \n19505733    8   3360600      -                 0                   5   \n19505734    8   3360601      -                 0                   5   \n19505735    8   3360602      -                 0                   5   \n\n         c_context trinucleotide  coverage             fraction  \n0               CG           CGC         0                  NaN  \n1               CG           CGA         0                  NaN  \n2              CHH           CTA         0                  NaN  \n3              CHH           CTT         0                  NaN  \n4              CHH           CAC         0                  NaN  \n...            ...           ...       ...                  ...  \n19505731       CHH           CCT         5       0.000000000000  \n19505732       CHH           CCC         5       0.000000000000  \n19505733       CHH           CTA         5       0.000000000000  \n19505734       CHH           CCT         5       0.000000000000  \n19505735       CHH           CCC         5       0.000000000000  \n\n[19505736 rows x 9 columns]",
      "text/html": "<div>\n<style scoped>\n    .dataframe tbody tr th:only-of-type {\n        vertical-align: middle;\n    }\n\n    .dataframe tbody tr th {\n        vertical-align: top;\n    }\n\n    .dataframe thead th {\n        text-align: right;\n    }\n</style>\n<table border=\"1\" class=\"dataframe\">\n  <thead>\n    <tr style=\"text-align: right;\">\n      <th></th>\n      <th>Chr</th>\n      <th>position</th>\n      <th>strand</th>\n      <th>count_methylated</th>\n      <th>count_unmethylated</th>\n      <th>c_context</th>\n      <th>trinucleotide</th>\n      <th>coverage</th>\n      <th>fraction</th>\n    </tr>\n  </thead>\n  <tbody>\n    <tr>\n      <th>0</th>\n      <td>1</td>\n      <td>4</td>\n      <td>+</td>\n      <td>0</td>\n      <td>0</td>\n      <td>CG</td>\n      <td>CGC</td>\n      <td>0</td>\n      <td>NaN</td>\n    </tr>\n    <tr>\n      <th>1</th>\n      <td>1</td>\n      <td>5</td>\n      <td>-</td>\n      <td>0</td>\n      <td>0</td>\n      <td>CG</td>\n      <td>CGA</td>\n      <td>0</td>\n      <td>NaN</td>\n    </tr>\n    <tr>\n      <th>2</th>\n      <td>1</td>\n      <td>6</td>\n      <td>+</td>\n      <td>0</td>\n      <td>0</td>\n      <td>CHH</td>\n      <td>CTA</td>\n      <td>0</td>\n      <td>NaN</td>\n    </tr>\n    <tr>\n      <th>3</th>\n      <td>1</td>\n      <td>10</td>\n      <td>-</td>\n      <td>0</td>\n      <td>0</td>\n      <td>CHH</td>\n      <td>CTT</td>\n      <td>0</td>\n      <td>NaN</td>\n    </tr>\n    <tr>\n      <th>4</th>\n      <td>1</td>\n      <td>13</td>\n      <td>+</td>\n      <td>0</td>\n      <td>0</td>\n      <td>CHH</td>\n      <td>CAC</td>\n      <td>0</td>\n      <td>NaN</td>\n    </tr>\n    <tr>\n      <th>...</th>\n      <td>...</td>\n      <td>...</td>\n      <td>...</td>\n      <td>...</td>\n      <td>...</td>\n      <td>...</td>\n      <td>...</td>\n      <td>...</td>\n      <td>...</td>\n    </tr>\n    <tr>\n      <th>19505731</th>\n      <td>8</td>\n      <td>3360595</td>\n      <td>-</td>\n      <td>0</td>\n      <td>5</td>\n      <td>CHH</td>\n      <td>CCT</td>\n      <td>5</td>\n      <td>0.000000000000</td>\n    </tr>\n    <tr>\n      <th>19505732</th>\n      <td>8</td>\n      <td>3360596</td>\n      <td>-</td>\n      <td>0</td>\n      <td>5</td>\n      <td>CHH</td>\n      <td>CCC</td>\n      <td>5</td>\n      <td>0.000000000000</td>\n    </tr>\n    <tr>\n      <th>19505733</th>\n      <td>8</td>\n      <td>3360600</td>\n      <td>-</td>\n      <td>0</td>\n      <td>5</td>\n      <td>CHH</td>\n      <td>CTA</td>\n      <td>5</td>\n      <td>0.000000000000</td>\n    </tr>\n    <tr>\n      <th>19505734</th>\n      <td>8</td>\n      <td>3360601</td>\n      <td>-</td>\n      <td>0</td>\n      <td>5</td>\n      <td>CHH</td>\n      <td>CCT</td>\n      <td>5</td>\n      <td>0.000000000000</td>\n    </tr>\n    <tr>\n      <th>19505735</th>\n      <td>8</td>\n      <td>3360602</td>\n      <td>-</td>\n      <td>0</td>\n      <td>5</td>\n      <td>CHH</td>\n      <td>CCC</td>\n      <td>5</td>\n      <td>0.000000000000</td>\n    </tr>\n  </tbody>\n</table>\n<p>19505736 rows × 9 columns</p>\n</div>"
     },
     "execution_count": 3,
     "metadata": {},
     "output_type": "execute_result"
    }
   ],
   "source": [
    "df"
   ],
   "metadata": {
    "collapsed": false,
    "ExecuteTime": {
     "end_time": "2023-11-12T18:50:04.654182454Z",
     "start_time": "2023-11-12T18:50:04.648755582Z"
    }
   },
   "id": "38dc9318f273f061"
  },
  {
   "cell_type": "code",
   "execution_count": 4,
   "outputs": [],
   "source": [
    "min_cov = (df['coverage'] >= 4)\n",
    "modified = (df['coverage'] >= 4) & (df['count_methylated'] >= 3)"
   ],
   "metadata": {
    "collapsed": false,
    "ExecuteTime": {
     "end_time": "2023-11-12T18:50:04.704106490Z",
     "start_time": "2023-11-12T18:50:04.653507180Z"
    }
   },
   "id": "5654073517d48ca8"
  },
  {
   "cell_type": "code",
   "execution_count": 5,
   "outputs": [
    {
     "data": {
      "text/plain": "count   19,505,736.000000000000\nmean            32.962831189759\nstd             19.807347803908\nmin              0.000000000000\n25%             21.000000000000\n50%             33.000000000000\n75%             44.000000000000\nmax          2,924.000000000000\nName: coverage, dtype: float64"
     },
     "execution_count": 5,
     "metadata": {},
     "output_type": "execute_result"
    }
   ],
   "source": [
    "df['coverage'].describe()"
   ],
   "metadata": {
    "collapsed": false,
    "ExecuteTime": {
     "end_time": "2023-11-12T18:50:05.023704489Z",
     "start_time": "2023-11-12T18:50:04.703236034Z"
    }
   },
   "id": "b136a6506278552f"
  },
  {
   "cell_type": "code",
   "execution_count": 6,
   "outputs": [],
   "source": [
    "# df['coverage'].hist()"
   ],
   "metadata": {
    "collapsed": false,
    "ExecuteTime": {
     "end_time": "2023-11-12T18:50:05.027109439Z",
     "start_time": "2023-11-12T18:50:05.023607700Z"
    }
   },
   "id": "a73f9a282a9930c0"
  },
  {
   "cell_type": "code",
   "execution_count": 7,
   "outputs": [
    {
     "data": {
      "text/plain": "count   18,984,362.000000000000\nmean             0.003447273024\nstd              0.014892129030\nmin              0.000000000000\n25%              0.000000000000\n50%              0.000000000000\n75%              0.000000000000\nmax              1.000000000000\nName: fraction, dtype: float64"
     },
     "execution_count": 7,
     "metadata": {},
     "output_type": "execute_result"
    }
   ],
   "source": [
    "df['fraction'].describe()"
   ],
   "metadata": {
    "collapsed": false,
    "ExecuteTime": {
     "end_time": "2023-11-12T18:50:05.489742414Z",
     "start_time": "2023-11-12T18:50:05.026584610Z"
    }
   },
   "id": "1ee007c96c60e6bb"
  },
  {
   "cell_type": "code",
   "execution_count": 11,
   "outputs": [
    {
     "data": {
      "text/plain": "Text(0.5, 1.0, 'V. dahliae')"
     },
     "execution_count": 11,
     "metadata": {},
     "output_type": "execute_result"
    },
    {
     "data": {
      "text/plain": "<Figure size 640x480 with 1 Axes>",
      "image/png": "[encoded data removed]"
     },
     "metadata": {},
     "output_type": "display_data"
    }
   ],
   "source": [
    "df['fraction'].hist(bins=50, grid=False)\n",
    "plt.xlabel('Cytosine Fraction Modified')\n",
    "plt.ylabel('Frequency')\n",
    "plt.title('V. dahliae')"
   ],
   "metadata": {
    "collapsed": false,
    "ExecuteTime": {
     "end_time": "2023-11-12T18:59:46.705381449Z",
     "start_time": "2023-11-12T18:59:46.450193091Z"
    }
   },
   "id": "5b1c13af7588219"
  },
  {
   "cell_type": "code",
   "execution_count": 9,
   "outputs": [
    {
     "data": {
      "text/plain": "18758324"
     },
     "execution_count": 9,
     "metadata": {},
     "output_type": "execute_result"
    }
   ],
   "source": [
    "len(df[min_cov])"
   ],
   "metadata": {
    "collapsed": false,
    "ExecuteTime": {
     "end_time": "2023-11-11T12:08:25.390272946Z",
     "start_time": "2023-11-11T12:08:24.897560258Z"
    }
   },
   "id": "8c881981a1eab434"
  },
  {
   "cell_type": "code",
   "execution_count": 10,
   "outputs": [
    {
     "data": {
      "text/plain": "c_context\nCHH    10099428\nCG      4904882\nCHG     3754014\nName: count, dtype: int64"
     },
     "execution_count": 10,
     "metadata": {},
     "output_type": "execute_result"
    }
   ],
   "source": [
    "df[min_cov]['c_context'].value_counts()"
   ],
   "metadata": {
    "collapsed": false,
    "ExecuteTime": {
     "end_time": "2023-11-11T12:08:26.299529445Z",
     "start_time": "2023-11-11T12:08:25.391183983Z"
    }
   },
   "id": "8f43c077566c8950"
  },
  {
   "cell_type": "code",
   "execution_count": 11,
   "outputs": [
    {
     "data": {
      "text/plain": "11860"
     },
     "execution_count": 11,
     "metadata": {},
     "output_type": "execute_result"
    }
   ],
   "source": [
    "len(df[modified])"
   ],
   "metadata": {
    "collapsed": false,
    "ExecuteTime": {
     "end_time": "2023-11-11T12:08:26.302687786Z",
     "start_time": "2023-11-11T12:08:26.296651933Z"
    }
   },
   "id": "d9e7517e2a530bab"
  },
  {
   "cell_type": "code",
   "execution_count": 12,
   "outputs": [
    {
     "data": {
      "text/plain": "c_context\nCHH    4978\nCG     4843\nCHG    2039\nName: count, dtype: int64"
     },
     "execution_count": 12,
     "metadata": {},
     "output_type": "execute_result"
    }
   ],
   "source": [
    "df[modified]['c_context'].value_counts()"
   ],
   "metadata": {
    "collapsed": false,
    "ExecuteTime": {
     "end_time": "2023-11-11T12:08:26.309775433Z",
     "start_time": "2023-11-11T12:08:26.302780493Z"
    }
   },
   "id": "157e5fdcf3351802"
  }
 ],
 "metadata": {
  "kernelspec": {
   "display_name": "Python 3",
   "language": "python",
   "name": "python3"
  },
  "language_info": {
   "codemirror_mode": {
    "name": "ipython",
    "version": 2
   },
   "file_extension": ".py",
   "mimetype": "text/x-python",
   "name": "python",
   "nbconvert_exporter": "python",
   "pygments_lexer": "ipython2",
   "version": "2.7.6"
  }
 },
 "nbformat": 4,
 "nbformat_minor": 5
}
